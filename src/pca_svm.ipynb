{
 "cells": [
  {
   "cell_type": "code",
   "execution_count": 1,
   "metadata": {},
   "outputs": [],
   "source": [
    "# Import necessary libraries\n",
    "from sklearn.decomposition import PCA\n",
    "from sklearn.svm import SVC\n",
    "from sklearn.model_selection import train_test_split\n",
    "import matplotlib.pyplot as plt\n",
    "import scipy.io as sio\n",
    "import numpy as np\n",
    "from sklearn.metrics import accuracy_score"
   ]
  },
  {
   "cell_type": "code",
   "execution_count": 2,
   "metadata": {},
   "outputs": [
    {
     "name": "stdout",
     "output_type": "stream",
     "text": [
      "(145, 145, 220)\n"
     ]
    }
   ],
   "source": [
    "\n",
    "# Load the dataset\n",
    "mat = sio.loadmat('/home/utkarsh/Documents/iitb/gnr602/project/dataset/Indian Pines/Indian_pines.mat')\n",
    "mat_gt = sio.loadmat('/home/utkarsh/Documents/iitb/gnr602/project/dataset/Indian Pines/Indian_pines_gt.mat')\n",
    "\n",
    "data = mat['indian_pines']\n",
    "labels = mat_gt['indian_pines_gt']\n",
    "print(data.shape)"
   ]
  },
  {
   "cell_type": "code",
   "execution_count": 3,
   "metadata": {},
   "outputs": [],
   "source": [
    "# Reshape the data to (num_samples, num_features)\n",
    "n, m, num_samples = data.shape\n",
    "data_reshaped = np.reshape(data, (n*m, num_samples))\n",
    "labels_reshaped = np.reshape(labels, (n*m,))\n",
    "\n",
    "# Perform PCA to reduce the dimensionality of the data\n",
    "num_components = 16\n",
    "pca = PCA(n_components=num_components)\n",
    "data_pca = pca.fit_transform(data_reshaped)\n",
    "\n",
    "# Split the data into train and test sets\n",
    "X_train, X_test, y_train, y_test = train_test_split(data_pca, labels_reshaped, test_size=0.3, random_state=42)\n",
    "\n",
    "# Create an SVM classifier and train it on the training set\n",
    "svm = SVC(kernel='linear')\n",
    "svm.fit(X_train, y_train)\n",
    "\n",
    "# Evaluate the SVM classifier on the test set\n",
    "y_pred = svm.predict(X_test)\n",
    "acc = accuracy_score(y_test, y_pred)\n",
    "print(\"Accuracy:\", acc)\n",
    "\n",
    "# Reshape the cluster labels and display the segmented image\n",
    "cluster_labels = svm.predict(data_pca)\n",
    "cluster_labels_reshaped = np.reshape(cluster_labels, (n, m))\n",
    "plt.imshow(cluster_labels_reshaped)\n",
    "plt.show()"
   ]
  }
 ],
 "metadata": {
  "kernelspec": {
   "display_name": "Python 3",
   "language": "python",
   "name": "python3"
  },
  "language_info": {
   "codemirror_mode": {
    "name": "ipython",
    "version": 3
   },
   "file_extension": ".py",
   "mimetype": "text/x-python",
   "name": "python",
   "nbconvert_exporter": "python",
   "pygments_lexer": "ipython3",
   "version": "3.10.6"
  },
  "orig_nbformat": 4
 },
 "nbformat": 4,
 "nbformat_minor": 2
}
