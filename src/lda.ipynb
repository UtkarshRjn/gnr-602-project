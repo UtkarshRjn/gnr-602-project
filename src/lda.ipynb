{
 "cells": [
  {
   "cell_type": "code",
   "execution_count": null,
   "metadata": {},
   "outputs": [],
   "source": [
    "## Basic code by chatGPT\n",
    "# Import necessary libraries\n",
    "from sklearn.discriminant_analysis import LinearDiscriminantAnalysis\n",
    "from sklearn.cluster import KMeans\n",
    "from sklearn import datasets\n",
    "import matplotlib.pyplot as plt\n",
    "\n",
    "# Load the dataset\n",
    "data = datasets.load_landsat()\n",
    "\n",
    "# Get the features (bands)\n",
    "X = data.data\n",
    "\n",
    "# Get the labels\n",
    "y = data.target\n",
    "\n",
    "# Apply LDA to reduce the dimensionality\n",
    "lda = LinearDiscriminantAnalysis(n_components=3)\n",
    "X_lda = lda.fit_transform(X, y)\n",
    "\n",
    "# Cluster the data using KMeans\n",
    "kmeans = KMeans(n_clusters=5)\n",
    "kmeans.fit(X_lda)\n",
    "\n",
    "# Get the labels and plot the results\n",
    "labels = kmeans.labels_\n",
    "plt.scatter(X_lda[:, 0], X_lda[:, 1], c=labels, cmap='viridis')\n",
    "plt.xlabel('LD1')\n",
    "plt.ylabel('LD2')\n",
    "plt.show()"
   ]
  }
 ],
 "metadata": {
  "language_info": {
   "name": "python"
  },
  "orig_nbformat": 4
 },
 "nbformat": 4,
 "nbformat_minor": 2
}
