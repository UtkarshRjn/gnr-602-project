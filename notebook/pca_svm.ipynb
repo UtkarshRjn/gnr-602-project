{
 "cells": [
  {
   "cell_type": "code",
   "execution_count": 9,
   "metadata": {},
   "outputs": [],
   "source": [
    "# Import necessary libraries\n",
    "from sklearn.svm import SVC\n",
    "from sklearn.model_selection import train_test_split\n",
    "import matplotlib.pyplot as plt\n",
    "import scipy.io as sio\n",
    "import numpy as np\n",
    "from sklearn.metrics import accuracy_score, mean_squared_error\n",
    "from PIL import Image\n",
    "import os"
   ]
  },
  {
   "cell_type": "code",
   "execution_count": 2,
   "metadata": {},
   "outputs": [],
   "source": [
    "\n",
    "# Load the dataset\n",
    "mat = sio.loadmat('/home/utkarsh/Documents/iitb/gnr602/project/dataset/Indian Pines/Indian_pines.mat')\n",
    "mat_gt = sio.loadmat('/home/utkarsh/Documents/iitb/gnr602/project/dataset/Indian Pines/Indian_pines_gt.mat')\n",
    "\n",
    "data = mat['indian_pines']\n",
    "labels = mat_gt['indian_pines_gt']\n",
    "\n",
    "# Reshape the data to (num_samples, num_features)\n",
    "n, m, num_samples = data.shape\n",
    "data_reshaped = np.reshape(data, (n*m, num_samples))\n",
    "labels_reshaped = np.reshape(labels, (n*m,))"
   ]
  },
  {
   "cell_type": "code",
   "execution_count": 3,
   "metadata": {},
   "outputs": [],
   "source": [
    "def save_fig(img, name, dir = '../output/pca', keep_axis = True):\n",
    "    _ , ax = plt.subplots(figsize=(4,4), dpi=100)\n",
    "    ax.imshow(img, interpolation='nearest')\n",
    "    if not keep_axis:\n",
    "        ax.set_axis_off()\n",
    "    # ax.xaxis.set_major_locator(plt.NullLocator())\n",
    "    # ax.yaxis.set_major_locator(plt.NullLocator())\n",
    "    plt.savefig(os.path.join(dir,name), bbox_inches='tight', pad_inches=0, transparent=True, edgecolor='none', facecolor='none')"
   ]
  },
  {
   "cell_type": "code",
   "execution_count": 4,
   "metadata": {},
   "outputs": [],
   "source": [
    "class StandardScaler:\n",
    "    def __init__(self):\n",
    "        self.mean_ = None\n",
    "        self.scale_ = None\n",
    "\n",
    "    def fit(self, X):\n",
    "        self.mean_ = np.mean(X, axis=0)\n",
    "        self.scale_ = np.std(X, axis=0)\n",
    "\n",
    "    def transform(self, X):\n",
    "        return (X - self.mean_) / self.scale_\n",
    "\n",
    "    def fit_transform(self, X):\n",
    "        self.fit(X)\n",
    "        return self.transform(X)"
   ]
  },
  {
   "cell_type": "code",
   "execution_count": 5,
   "metadata": {},
   "outputs": [],
   "source": [
    "def pca(X, num_components):\n",
    "    # Center the data\n",
    "    X_mean = np.mean(X, axis=0)\n",
    "    X_centered = X - X_mean\n",
    "    \n",
    "    # Calculate the covariance matrix\n",
    "    cov_matrix = np.cov(X_centered.T)\n",
    "    \n",
    "    # Calculate the eigenvalues and eigenvectors\n",
    "    eigenvalues, eigenvectors = np.linalg.eig(cov_matrix)\n",
    "    \n",
    "    # Sort the eigenvalues in descending order\n",
    "    sorted_indices = np.argsort(eigenvalues)[::-1]\n",
    "    sorted_eigenvalues = eigenvalues[sorted_indices]\n",
    "    sorted_eigenvectors = eigenvectors[:,sorted_indices]\n",
    "    \n",
    "    # Select the top k eigenvectors\n",
    "    principal_components = sorted_eigenvectors[:,:num_components]\n",
    "    \n",
    "    # Project the data onto the new subspace\n",
    "    data_pca = np.dot(X_centered, principal_components)\n",
    "    \n",
    "    return data_pca\n"
   ]
  },
  {
   "cell_type": "code",
   "execution_count": 6,
   "metadata": {},
   "outputs": [
    {
     "name": "stdout",
     "output_type": "stream",
     "text": [
      "Accuracy: 0.641566265060241\n"
     ]
    },
    {
     "data": {
      "image/png": "[encoded data removed]",
      "text/plain": [
       "<Figure size 400x400 with 1 Axes>"
      ]
     },
     "metadata": {},
     "output_type": "display_data"
    }
   ],
   "source": [
    "# Perform PCA to reduce the dimensionality of the data\n",
    "num_components = 16\n",
    "data_scaled = StandardScaler().fit_transform(data_reshaped)\n",
    "data_pca = pca(data_scaled, num_components)\n",
    "\n",
    "# Split the data into train and test sets\n",
    "X_train, X_test, y_train, y_test = train_test_split(data_pca, labels_reshaped, test_size=0.3, random_state=42)\n",
    "\n",
    "# Create an SVM classifier and train it on the training set\n",
    "svm = SVC(kernel='linear')\n",
    "svm.fit(X_train, y_train)\n",
    "\n",
    "# Evaluate the SVM classifier on the test set\n",
    "y_pred = svm.predict(X_test)\n",
    "acc = accuracy_score(y_test, y_pred)\n",
    "print(\"Accuracy:\", acc)\n",
    "\n",
    "# Reshape the cluster labels and display the segmented image\n",
    "cluster_labels = svm.predict(data_pca)\n",
    "cluster_labels_reshaped = np.reshape(cluster_labels, (n, m))\n",
    "save_fig(cluster_labels_reshaped, 'pca_svm.png')"
   ]
  },
  {
   "cell_type": "code",
   "execution_count": 10,
   "metadata": {},
   "outputs": [
    {
     "name": "stdout",
     "output_type": "stream",
     "text": [
      "MSE: 32.552770511296075\n"
     ]
    }
   ],
   "source": [
    "cluster_labels_flat = np.reshape(cluster_labels_reshaped, (n*m,))\n",
    "mse = mean_squared_error(labels_reshaped, cluster_labels_flat)\n",
    "print(\"MSE:\", mse)"
   ]
  }
 ],
 "metadata": {
  "kernelspec": {
   "display_name": "Python 3",
   "language": "python",
   "name": "python3"
  },
  "language_info": {
   "codemirror_mode": {
    "name": "ipython",
    "version": 3
   },
   "file_extension": ".py",
   "mimetype": "text/x-python",
   "name": "python",
   "nbconvert_exporter": "python",
   "pygments_lexer": "ipython3",
   "version": "3.10.6"
  },
  "orig_nbformat": 4
 },
 "nbformat": 4,
 "nbformat_minor": 2
}
