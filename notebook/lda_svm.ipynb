{
 "cells": [
  {
   "cell_type": "code",
   "execution_count": 22,
   "metadata": {},
   "outputs": [],
   "source": [
    "from sklearn.discriminant_analysis import LinearDiscriminantAnalysis as LDA\n",
    "from sklearn.svm import SVC\n",
    "from sklearn.model_selection import train_test_split\n",
    "import matplotlib.pyplot as plt\n",
    "import scipy.io as sio\n",
    "import numpy as np\n",
    "from sklearn.metrics import accuracy_score\n",
    "import os"
   ]
  },
  {
   "cell_type": "code",
   "execution_count": 24,
   "metadata": {},
   "outputs": [],
   "source": [
    "def save_fig(img, name, dir = '../output/lda/', keep_axis = True):\n",
    "    _ , ax = plt.subplots(figsize=(4,4), dpi=100)\n",
    "    ax.imshow(img, interpolation='nearest')\n",
    "    if not keep_axis:\n",
    "        ax.set_axis_off()\n",
    "    # ax.xaxis.set_major_locator(plt.NullLocator())\n",
    "    # ax.yaxis.set_major_locator(plt.NullLocator())\n",
    "    plt.savefig(os.path.join(dir,name), bbox_inches='tight', pad_inches=0, transparent=True, edgecolor='none', facecolor='none')"
   ]
  },
  {
   "cell_type": "code",
   "execution_count": 17,
   "metadata": {},
   "outputs": [
    {
     "name": "stdout",
     "output_type": "stream",
     "text": [
      "(145, 145, 220)\n"
     ]
    }
   ],
   "source": [
    "# Load the dataset\n",
    "mat = sio.loadmat('/home/utkarsh/Documents/iitb/gnr602/project/dataset/Indian Pines/Indian_pines.mat')\n",
    "mat_gt = sio.loadmat('/home/utkarsh/Documents/iitb/gnr602/project/dataset/Indian Pines/Indian_pines_gt.mat')\n",
    "\n",
    "data = mat['indian_pines']\n",
    "labels = mat_gt['indian_pines_gt']\n",
    "print(data.shape)"
   ]
  },
  {
   "cell_type": "code",
   "execution_count": 18,
   "metadata": {},
   "outputs": [],
   "source": [
    "\n",
    "class StandardScaler:\n",
    "    def __init__(self):\n",
    "        self.mean_ = None\n",
    "        self.scale_ = None\n",
    "\n",
    "    def fit(self, X):\n",
    "        self.mean_ = np.mean(X, axis=0)\n",
    "        self.scale_ = np.std(X, axis=0)\n",
    "\n",
    "    def transform(self, X):\n",
    "        return (X - self.mean_) / self.scale_\n",
    "\n",
    "    def fit_transform(self, X):\n",
    "        self.fit(X)\n",
    "        return self.transform(X)"
   ]
  },
  {
   "cell_type": "code",
   "execution_count": 19,
   "metadata": {},
   "outputs": [],
   "source": [
    "import numpy as np\n",
    "\n",
    "def lda(X, y, num_components):\n",
    "    # compute class means\n",
    "    means = []\n",
    "    for c in np.unique(y):\n",
    "        means.append(np.mean(X[y == c], axis=0))\n",
    "    \n",
    "    # compute within-class scatter matrix\n",
    "    Sw = np.zeros((X.shape[1], X.shape[1]))\n",
    "    for c, mean in zip(np.unique(y), means):\n",
    "        class_sc_mat = np.zeros((X.shape[1], X.shape[1]))  \n",
    "        for row in X[y == c]:\n",
    "            row, mean = row.reshape(X.shape[1],1), mean.reshape(X.shape[1],1) \n",
    "            class_sc_mat += (row-mean).dot((row-mean).T)\n",
    "        Sw += class_sc_mat  \n",
    "    \n",
    "    # compute between-class scatter matrix\n",
    "    Sb = np.zeros((X.shape[1], X.shape[1]))\n",
    "    grand_mean = np.mean(X, axis=0).reshape(X.shape[1],1)\n",
    "    for c, mean in zip(np.unique(y), means):\n",
    "        n = X[y==c,:].shape[0]\n",
    "        mean = mean.reshape(X.shape[1],1)\n",
    "        Sb += n * (mean - grand_mean).dot((mean - grand_mean).T)\n",
    "    \n",
    "    # compute eigenvalues and eigenvectors of Sw^-1*Sb\n",
    "    eigen_vals, eigen_vecs = np.linalg.eig(np.linalg.inv(Sw).dot(Sb))\n",
    "    eigen_pairs = [(np.abs(eigen_vals[i]), eigen_vecs[:,i]) for i in range(len(eigen_vals))]\n",
    "    eigen_pairs = sorted(eigen_pairs, key=lambda k: k[0], reverse=True)\n",
    "    \n",
    "    # extract the top k eigenvectors as LDA components\n",
    "    lda_components = np.zeros((X.shape[1], num_components))\n",
    "    for i in range(num_components):\n",
    "        lda_components[:, i] = eigen_pairs[i][1]\n",
    "    \n",
    "    # project data onto the LDA components\n",
    "    X_lda = X.dot(lda_components)\n",
    "    \n",
    "    return X_lda"
   ]
  },
  {
   "cell_type": "code",
   "execution_count": 25,
   "metadata": {},
   "outputs": [
    {
     "name": "stderr",
     "output_type": "stream",
     "text": [
      "/tmp/ipykernel_58748/2759968207.py:34: ComplexWarning: Casting complex values to real discards the imaginary part\n",
      "  lda_components[:, i] = eigen_pairs[i][1]\n"
     ]
    },
    {
     "name": "stdout",
     "output_type": "stream",
     "text": [
      "Accuracy: 0.7466708941027267\n"
     ]
    },
    {
     "data": {
      "image/png": "[encoded data removed]",
      "text/plain": [
       "<Figure size 400x400 with 1 Axes>"
      ]
     },
     "metadata": {},
     "output_type": "display_data"
    }
   ],
   "source": [
    "# Reshape the data to (num_samples, num_features)\n",
    "n, m, num_samples = data.shape\n",
    "data_reshaped = np.reshape(data, (n*m, num_samples))\n",
    "labels_reshaped = np.reshape(labels, (n*m,))\n",
    "\n",
    "# Apply LDA to reduce the dimensionality of the data\n",
    "num_components = 16\n",
    "data_scaled = StandardScaler().fit_transform(data_reshaped)\n",
    "data_lda = lda(data_scaled, labels.ravel(), num_components)\n",
    "\n",
    "# Split the data into train and test sets\n",
    "X_train, X_test, y_train, y_test = train_test_split(data_lda, labels_reshaped, test_size=0.3, random_state=42)\n",
    "\n",
    "# Create an SVM classifier and train it on the training set\n",
    "svm = SVC(kernel='linear')\n",
    "svm.fit(X_train, y_train)\n",
    "\n",
    "# Evaluate the SVM classifier on the test set\n",
    "y_pred = svm.predict(X_test)\n",
    "acc = accuracy_score(y_test, y_pred)\n",
    "print(\"Accuracy:\", acc)\n",
    "\n",
    "# Reshape the cluster labels and display the segmented image\n",
    "cluster_labels = svm.predict(data_lda)\n",
    "cluster_labels_reshaped = np.reshape(cluster_labels, (n, m))\n",
    "save_fig(cluster_labels_reshaped, 'lda_svm.png')"
   ]
  },
  {
   "cell_type": "code",
   "execution_count": null,
   "metadata": {},
   "outputs": [
    {
     "name": "stdout",
     "output_type": "stream",
     "text": [
      "MSE: 24.060975029726517\n"
     ]
    }
   ],
   "source": [
    "from sklearn.metrics import mean_squared_error\n",
    "\n",
    "# Reshape the cluster labels to a 1D array\n",
    "cluster_labels_flat = np.reshape(cluster_labels_reshaped, (n*m,))\n",
    "\n",
    "# Compute the mean squared error between the predicted labels and the ground truth labels\n",
    "mse = mean_squared_error(labels_reshaped, cluster_labels_flat)\n",
    "\n",
    "print(\"MSE:\", mse)"
   ]
  }
 ],
 "metadata": {
  "kernelspec": {
   "display_name": "Python 3",
   "language": "python",
   "name": "python3"
  },
  "language_info": {
   "codemirror_mode": {
    "name": "ipython",
    "version": 3
   },
   "file_extension": ".py",
   "mimetype": "text/x-python",
   "name": "python",
   "nbconvert_exporter": "python",
   "pygments_lexer": "ipython3",
   "version": "3.10.6"
  },
  "orig_nbformat": 4
 },
 "nbformat": 4,
 "nbformat_minor": 2
}
